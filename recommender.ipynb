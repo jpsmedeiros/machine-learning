{
 "cells": [
  {
   "cell_type": "code",
   "execution_count": 1,
   "metadata": {},
   "outputs": [],
   "source": [
    "import pandas as pd\n",
    "from sklearn.neighbors import KNeighborsClassifier\n",
    "pd.options.display.max_columns = None"
   ]
  },
  {
   "cell_type": "code",
   "execution_count": 2,
   "metadata": {},
   "outputs": [],
   "source": [
    "data = pd.read_csv('dataset/frappe/frappe.csv', sep=\"\\t\")\n",
    "appData = pd.read_csv('dataset/frappe/meta.csv', sep=\"\\t\")"
   ]
  },
  {
   "cell_type": "code",
   "execution_count": 3,
   "metadata": {},
   "outputs": [
    {
     "data": {
      "text/html": [
       "<div>\n",
       "<style scoped>\n",
       "    .dataframe tbody tr th:only-of-type {\n",
       "        vertical-align: middle;\n",
       "    }\n",
       "\n",
       "    .dataframe tbody tr th {\n",
       "        vertical-align: top;\n",
       "    }\n",
       "\n",
       "    .dataframe thead th {\n",
       "        text-align: right;\n",
       "    }\n",
       "</style>\n",
       "<table border=\"1\" class=\"dataframe\">\n",
       "  <thead>\n",
       "    <tr style=\"text-align: right;\">\n",
       "      <th></th>\n",
       "      <th>user</th>\n",
       "      <th>item</th>\n",
       "      <th>cnt</th>\n",
       "      <th>daytime</th>\n",
       "      <th>weekday</th>\n",
       "      <th>isweekend</th>\n",
       "      <th>homework</th>\n",
       "      <th>cost</th>\n",
       "      <th>weather</th>\n",
       "      <th>country</th>\n",
       "      <th>city</th>\n",
       "    </tr>\n",
       "  </thead>\n",
       "  <tbody>\n",
       "    <tr>\n",
       "      <th>0</th>\n",
       "      <td>0</td>\n",
       "      <td>0</td>\n",
       "      <td>1</td>\n",
       "      <td>morning</td>\n",
       "      <td>sunday</td>\n",
       "      <td>weekend</td>\n",
       "      <td>unknown</td>\n",
       "      <td>free</td>\n",
       "      <td>sunny</td>\n",
       "      <td>United States</td>\n",
       "      <td>0</td>\n",
       "    </tr>\n",
       "    <tr>\n",
       "      <th>1</th>\n",
       "      <td>1</td>\n",
       "      <td>1</td>\n",
       "      <td>7</td>\n",
       "      <td>afternoon</td>\n",
       "      <td>saturday</td>\n",
       "      <td>weekend</td>\n",
       "      <td>unknown</td>\n",
       "      <td>free</td>\n",
       "      <td>cloudy</td>\n",
       "      <td>Spain</td>\n",
       "      <td>0</td>\n",
       "    </tr>\n",
       "    <tr>\n",
       "      <th>2</th>\n",
       "      <td>2</td>\n",
       "      <td>2</td>\n",
       "      <td>6</td>\n",
       "      <td>evening</td>\n",
       "      <td>monday</td>\n",
       "      <td>workday</td>\n",
       "      <td>unknown</td>\n",
       "      <td>free</td>\n",
       "      <td>cloudy</td>\n",
       "      <td>Spain</td>\n",
       "      <td>369</td>\n",
       "    </tr>\n",
       "    <tr>\n",
       "      <th>3</th>\n",
       "      <td>3</td>\n",
       "      <td>3</td>\n",
       "      <td>1</td>\n",
       "      <td>sunset</td>\n",
       "      <td>thursday</td>\n",
       "      <td>workday</td>\n",
       "      <td>unknown</td>\n",
       "      <td>free</td>\n",
       "      <td>unknown</td>\n",
       "      <td>United States</td>\n",
       "      <td>1028</td>\n",
       "    </tr>\n",
       "    <tr>\n",
       "      <th>4</th>\n",
       "      <td>4</td>\n",
       "      <td>4</td>\n",
       "      <td>428</td>\n",
       "      <td>night</td>\n",
       "      <td>thursday</td>\n",
       "      <td>workday</td>\n",
       "      <td>home</td>\n",
       "      <td>free</td>\n",
       "      <td>sunny</td>\n",
       "      <td>Switzerland</td>\n",
       "      <td>147</td>\n",
       "    </tr>\n",
       "  </tbody>\n",
       "</table>\n",
       "</div>"
      ],
      "text/plain": [
       "   user  item  cnt    daytime   weekday isweekend homework  cost  weather  \\\n",
       "0     0     0    1    morning    sunday   weekend  unknown  free    sunny   \n",
       "1     1     1    7  afternoon  saturday   weekend  unknown  free   cloudy   \n",
       "2     2     2    6    evening    monday   workday  unknown  free   cloudy   \n",
       "3     3     3    1     sunset  thursday   workday  unknown  free  unknown   \n",
       "4     4     4  428      night  thursday   workday     home  free    sunny   \n",
       "\n",
       "         country  city  \n",
       "0  United States     0  \n",
       "1          Spain     0  \n",
       "2          Spain   369  \n",
       "3  United States  1028  \n",
       "4    Switzerland   147  "
      ]
     },
     "execution_count": 3,
     "metadata": {},
     "output_type": "execute_result"
    }
   ],
   "source": [
    "data.head()"
   ]
  },
  {
   "cell_type": "markdown",
   "metadata": {},
   "source": [
    "### Removes useless columns"
   ]
  },
  {
   "cell_type": "code",
   "execution_count": 4,
   "metadata": {},
   "outputs": [],
   "source": [
    "data = data.drop('user', axis=1)\n",
    "data = data.drop('city', axis=1)"
   ]
  },
  {
   "cell_type": "code",
   "execution_count": 5,
   "metadata": {
    "scrolled": true
   },
   "outputs": [
    {
     "data": {
      "text/html": [
       "<div>\n",
       "<style scoped>\n",
       "    .dataframe tbody tr th:only-of-type {\n",
       "        vertical-align: middle;\n",
       "    }\n",
       "\n",
       "    .dataframe tbody tr th {\n",
       "        vertical-align: top;\n",
       "    }\n",
       "\n",
       "    .dataframe thead th {\n",
       "        text-align: right;\n",
       "    }\n",
       "</style>\n",
       "<table border=\"1\" class=\"dataframe\">\n",
       "  <thead>\n",
       "    <tr style=\"text-align: right;\">\n",
       "      <th></th>\n",
       "      <th>item</th>\n",
       "      <th>cnt</th>\n",
       "      <th>daytime</th>\n",
       "      <th>weekday</th>\n",
       "      <th>isweekend</th>\n",
       "      <th>homework</th>\n",
       "      <th>cost</th>\n",
       "      <th>weather</th>\n",
       "      <th>country</th>\n",
       "    </tr>\n",
       "  </thead>\n",
       "  <tbody>\n",
       "    <tr>\n",
       "      <th>0</th>\n",
       "      <td>0</td>\n",
       "      <td>1</td>\n",
       "      <td>morning</td>\n",
       "      <td>sunday</td>\n",
       "      <td>weekend</td>\n",
       "      <td>unknown</td>\n",
       "      <td>free</td>\n",
       "      <td>sunny</td>\n",
       "      <td>United States</td>\n",
       "    </tr>\n",
       "    <tr>\n",
       "      <th>1</th>\n",
       "      <td>1</td>\n",
       "      <td>7</td>\n",
       "      <td>afternoon</td>\n",
       "      <td>saturday</td>\n",
       "      <td>weekend</td>\n",
       "      <td>unknown</td>\n",
       "      <td>free</td>\n",
       "      <td>cloudy</td>\n",
       "      <td>Spain</td>\n",
       "    </tr>\n",
       "    <tr>\n",
       "      <th>2</th>\n",
       "      <td>2</td>\n",
       "      <td>6</td>\n",
       "      <td>evening</td>\n",
       "      <td>monday</td>\n",
       "      <td>workday</td>\n",
       "      <td>unknown</td>\n",
       "      <td>free</td>\n",
       "      <td>cloudy</td>\n",
       "      <td>Spain</td>\n",
       "    </tr>\n",
       "    <tr>\n",
       "      <th>3</th>\n",
       "      <td>3</td>\n",
       "      <td>1</td>\n",
       "      <td>sunset</td>\n",
       "      <td>thursday</td>\n",
       "      <td>workday</td>\n",
       "      <td>unknown</td>\n",
       "      <td>free</td>\n",
       "      <td>unknown</td>\n",
       "      <td>United States</td>\n",
       "    </tr>\n",
       "    <tr>\n",
       "      <th>4</th>\n",
       "      <td>4</td>\n",
       "      <td>428</td>\n",
       "      <td>night</td>\n",
       "      <td>thursday</td>\n",
       "      <td>workday</td>\n",
       "      <td>home</td>\n",
       "      <td>free</td>\n",
       "      <td>sunny</td>\n",
       "      <td>Switzerland</td>\n",
       "    </tr>\n",
       "  </tbody>\n",
       "</table>\n",
       "</div>"
      ],
      "text/plain": [
       "   item  cnt    daytime   weekday isweekend homework  cost  weather  \\\n",
       "0     0    1    morning    sunday   weekend  unknown  free    sunny   \n",
       "1     1    7  afternoon  saturday   weekend  unknown  free   cloudy   \n",
       "2     2    6    evening    monday   workday  unknown  free   cloudy   \n",
       "3     3    1     sunset  thursday   workday  unknown  free  unknown   \n",
       "4     4  428      night  thursday   workday     home  free    sunny   \n",
       "\n",
       "         country  \n",
       "0  United States  \n",
       "1          Spain  \n",
       "2          Spain  \n",
       "3  United States  \n",
       "4    Switzerland  "
      ]
     },
     "execution_count": 5,
     "metadata": {},
     "output_type": "execute_result"
    }
   ],
   "source": [
    "data.head()"
   ]
  },
  {
   "cell_type": "markdown",
   "metadata": {},
   "source": [
    "### Converts columns that are strings into numbers and store the labels in the labels array\n",
    "### the index of the labels array corresponds to the column number"
   ]
  },
  {
   "cell_type": "code",
   "execution_count": 6,
   "metadata": {
    "scrolled": true
   },
   "outputs": [],
   "source": [
    "labels = {}\n",
    "for x in range(0, len(data.columns)):\n",
    "    if type(data.iloc[:, x][0]) == str:\n",
    "        data.iloc[:, x], labels[data.columns[x]] = pd.factorize(data.iloc[:, x])\n",
    "    else:\n",
    "        labels[data.columns[x]] = None\n",
    "        "
   ]
  },
  {
   "cell_type": "markdown",
   "metadata": {},
   "source": [
    "### Choose training and testing set"
   ]
  },
  {
   "cell_type": "code",
   "execution_count": 7,
   "metadata": {},
   "outputs": [],
   "source": [
    "from sklearn.model_selection import train_test_split\n",
    "y = data['item']\n",
    "data = data.drop('item', axis=1)\n",
    "\n",
    "X_train, X_test, y_train, y_test = train_test_split(data, y, test_size=0.4, random_state=0)"
   ]
  },
  {
   "cell_type": "markdown",
   "metadata": {},
   "source": [
    "### Apply the KNeighbors to train the machine"
   ]
  },
  {
   "cell_type": "code",
   "execution_count": 8,
   "metadata": {
    "scrolled": true
   },
   "outputs": [],
   "source": [
    "knn = KNeighborsClassifier(n_neighbors=5)\n",
    "knn.fit(X_train, y_train);"
   ]
  },
  {
   "cell_type": "code",
   "execution_count": 9,
   "metadata": {},
   "outputs": [],
   "source": [
    "# returns the string value of that number in that column\n",
    "def translateToString(result: int, labels: dict, column: str):\n",
    "    return labels[column][result];\n",
    "\n",
    "def getAppName(item: int):\n",
    "    return appData.iloc[item, 8]\n",
    "\n",
    "def getApp(item: int):\n",
    "    return appData.iloc[item, :]"
   ]
  },
  {
   "cell_type": "code",
   "execution_count": 10,
   "metadata": {},
   "outputs": [
    {
     "data": {
      "text/plain": [
       "'WhatsApp Messenger'"
      ]
     },
     "execution_count": 10,
     "metadata": {},
     "output_type": "execute_result"
    }
   ],
   "source": [
    "cnt = 10\n",
    "daytime = 1\n",
    "weekday = 2\n",
    "isweekend = 1\n",
    "homework = 0\n",
    "cost = 0\n",
    "wheater = 4\n",
    "country = 10\n",
    "infos = [cnt, daytime, weekday, isweekend, homework, cost, wheater, country]\n",
    "getAppName(knn.predict([infos])[0])"
   ]
  }
 ],
 "metadata": {
  "kernelspec": {
   "display_name": "Python 3",
   "language": "python",
   "name": "python3"
  },
  "language_info": {
   "codemirror_mode": {
    "name": "ipython",
    "version": 3
   },
   "file_extension": ".py",
   "mimetype": "text/x-python",
   "name": "python",
   "nbconvert_exporter": "python",
   "pygments_lexer": "ipython3",
   "version": "3.6.5"
  }
 },
 "nbformat": 4,
 "nbformat_minor": 2
}
